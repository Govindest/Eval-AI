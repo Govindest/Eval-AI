{
 "cells": [
  {
   "cell_type": "code",
   "execution_count": 27,
   "metadata": {},
   "outputs": [],
   "source": [
    "from sheets_api import SheetsAPI\n",
    "import replicate\n",
    "from dotenv import load_dotenv\n",
    "import os\n",
    "\n",
    "load_dotenv()\n",
    "REPLICATE_API_TOKEN = os.getenv('REPLICATE_API_TOKEN')"
   ]
  },
  {
   "cell_type": "code",
   "execution_count": 28,
   "metadata": {},
   "outputs": [],
   "source": [
    "s = SheetsAPI()\n",
    "values = s.get_sheet_values(\n",
    "    range='Student Notes!A:OZ',\n",
    "    sheet_id='1_-qCpMMQcA5NDnfGbXa4D79ki-Rjjz-gnyb2KXiNdsQ'\n",
    ")\n",
    "d = s.get_dict_from_sheet_values(values)"
   ]
  },
  {
   "cell_type": "code",
   "execution_count": 29,
   "metadata": {},
   "outputs": [
    {
     "name": "stdout",
     "output_type": "stream",
     "text": [
      "Convert this list of notes into a paragraph.\n",
      " Notes: ['Participated with meaningful points in open session', 'Wellness presentation about mental health was good, although it was a bit short. The activity was enjoyable.', 'Some sidetalking in class.']\n"
     ]
    }
   ],
   "source": [
    "query = f\"\"\"Convert this list of notes into a paragraph.\\n Notes: {d['Aryan']}\"\"\"\n",
    "print(query)"
   ]
  },
  {
   "cell_type": "code",
   "execution_count": 30,
   "metadata": {},
   "outputs": [],
   "source": [
    "client = replicate.Client(api_token=REPLICATE_API_TOKEN)\n",
    "output = client.run(\n",
    "    \"meta/llama-2-70b-chat:2c1608e18606fad2812020dc541930f2d0495ce32eee50074220b87300bc16e1\",\n",
    "    input={'prompt': query}\n",
    ")"
   ]
  },
  {
   "cell_type": "code",
   "execution_count": 31,
   "metadata": {},
   "outputs": [],
   "source": [
    "result = [item for item in output]"
   ]
  },
  {
   "cell_type": "code",
   "execution_count": 32,
   "metadata": {},
   "outputs": [
    {
     "name": "stdout",
     "output_type": "stream",
     "text": [
      " Here's a paragraph based on the given notes:\n",
      "\n",
      "\"During the open session, I actively participated by sharing meaningful points. Later, we had a wellness presentation about mental health, which was informative and engaging, although it could have been longer. Afterward, we enjoyed an activity that helped us relax and bond with each other. Unfortunately, there were instances of side talking in class, which we will work on improving for future sessions.\"\n"
     ]
    }
   ],
   "source": [
    "print(''.join(result))"
   ]
  }
 ],
 "metadata": {
  "kernelspec": {
   "display_name": "Python 3",
   "language": "python",
   "name": "python3"
  },
  "language_info": {
   "codemirror_mode": {
    "name": "ipython",
    "version": 3
   },
   "file_extension": ".py",
   "mimetype": "text/x-python",
   "name": "python",
   "nbconvert_exporter": "python",
   "pygments_lexer": "ipython3",
   "version": "3.11.4"
  },
  "orig_nbformat": 4
 },
 "nbformat": 4,
 "nbformat_minor": 2
}
